{
 "cells": [
  {
   "cell_type": "code",
   "execution_count": 68,
   "metadata": {},
   "outputs": [],
   "source": [
    "READ = False"
   ]
  },
  {
   "cell_type": "code",
   "execution_count": 69,
   "metadata": {},
   "outputs": [],
   "source": [
    "from PIL import Image\n",
    "from PIL import ImageFont\n",
    "from PIL import ImageDraw\n",
    "import PIL.ImageOps\n",
    "from IPython.display import display \n",
    "import random\n",
    "import json\n",
    "from os import listdir\n",
    "from os.path import isfile, join"
   ]
  },
  {
   "cell_type": "code",
   "execution_count": 70,
   "metadata": {},
   "outputs": [],
   "source": [
    "def get_trait(attribute):\n",
    "    mypath= f\"./trait-layers/{attribute}\"\n",
    "    return [f[:-4] for f in listdir(mypath) if isfile(join(mypath, f))]\n",
    "\n",
    "def list_prob(length):\n",
    "    list_prob = [100//length for i in range(length - 1)]\n",
    "    list_prob.append(100 - list_prob[0]*len(list_prob))\n",
    "    return list_prob\n"
   ]
  },
  {
   "cell_type": "code",
   "execution_count": 71,
   "metadata": {},
   "outputs": [],
   "source": [
    "# Each image is made up a series of traits\n",
    "# The weightings for each trait drive the rarity and add up to 100%\n",
    "traits = [\"Background\", \"Body\", \"Earrings\", \"Eyes\", \"Face\", \"Head\", \"Outfit\"]\n",
    "\n",
    "Background = get_trait(\"Background\")\n",
    "Background_weights = list_prob(len(Background))\n",
    "Background_files = {}\n",
    "\n",
    "Body = get_trait(\"Body\")\n",
    "Body_weights = list_prob(len(Body))\n",
    "Body_files = {}\n",
    "\n",
    "Earrings = get_trait(\"Earrings\")\n",
    "Earrings_weights = list_prob(len(Earrings))\n",
    "Earrings_files = {}\n",
    "\n",
    "Eyes = get_trait(\"Eyes\")\n",
    "Eyes_weights = list_prob(len(Eyes))\n",
    "Eyes_files = {}\n",
    "\n",
    "Face = get_trait(\"Face\")\n",
    "Face_weights = list_prob(len(Face))\n",
    "Face_files = {}\n",
    "\n",
    "Head = get_trait(\"Head\")\n",
    "Head_weights = list_prob(len(Head))\n",
    "Head_files = {}\n",
    "\n",
    "Outfit = get_trait(\"Outfit\")\n",
    "Outfit_weights = list_prob(len(Outfit))\n",
    "Outfit_files = {}\n",
    "\n",
    "# Dictionary variable for each trait. \n",
    "# Eech trait corresponds to its file name\n",
    "for cat in traits:\n",
    "    for cat_trait in globals()[cat]:\n",
    "        globals()[cat+\"_files\"][cat_trait] = cat_trait"
   ]
  },
  {
   "cell_type": "code",
   "execution_count": 72,
   "metadata": {},
   "outputs": [],
   "source": [
    "## Generate Traits\n",
    "TOTAL_IMAGES = 20 # Number of random unique images we want to generate\n",
    "\n",
    "all_images = [] \n",
    "# A recursive function to generate unique image combinations\n",
    "def create_new_image():\n",
    "    new_image = {}\n",
    "    # For each trait category, select a random trait based on the weightings \n",
    "    for trait in traits:\n",
    "        new_image [trait] = random.choices(globals()[trait], globals()[trait+'_weights'])[0]\n",
    "    if new_image in all_images:\n",
    "        return create_new_image()\n",
    "    else:\n",
    "        return new_image\n",
    "    \n",
    "# Generate the unique combinations based on trait weightings\n",
    "for i in range(TOTAL_IMAGES): \n",
    "    new_trait_image = create_new_image()\n",
    "    all_images.append(new_trait_image)\n"
   ]
  },
  {
   "cell_type": "code",
   "execution_count": 73,
   "metadata": {},
   "outputs": [
    {
     "name": "stdout",
     "output_type": "stream",
     "text": [
      "Are all images unique? True\n"
     ]
    }
   ],
   "source": [
    "# Returns true if all images are unique\n",
    "def all_images_unique(all_images):\n",
    "    seen = list()\n",
    "    return not any(i in seen or seen.append(i) for i in all_images)\n",
    "\n",
    "print(\"Are all images unique?\", all_images_unique(all_images))"
   ]
  },
  {
   "cell_type": "code",
   "execution_count": 74,
   "metadata": {},
   "outputs": [],
   "source": [
    "# Add token Id to each image\n",
    "i = 0\n",
    "for item in all_images:\n",
    "    item[\"tokenId\"] = i\n",
    "    i = i + 1"
   ]
  },
  {
   "cell_type": "code",
   "execution_count": 75,
   "metadata": {
    "tags": []
   },
   "outputs": [],
   "source": [
    "# print(all_images)"
   ]
  },
  {
   "cell_type": "code",
   "execution_count": 76,
   "metadata": {},
   "outputs": [],
   "source": [
    "#### Generate Metadata for all Traits \n",
    "if not READ:\n",
    "    METADATA_FILE_NAME = './metadata_new/all-traits.json'; \n",
    "    with open(METADATA_FILE_NAME, 'w') as outfile:\n",
    "        json.dump(all_images, outfile, indent=4)"
   ]
  },
  {
   "cell_type": "code",
   "execution_count": 77,
   "metadata": {},
   "outputs": [],
   "source": [
    "#### Generate Images\n",
    "import textwrap\n",
    "f = open('./metadata_new/all-traits.json',) \n",
    "all_images = json.load(f)\n",
    "for item in all_images:\n",
    "    bg = Image.open(f\"./trait-layers/Background/{Background_files[item['Background']]}.png\").convert('RGBA')\n",
    "\n",
    "    layers = []\n",
    "\n",
    "    layers.append(Image.open(f\"./trait-layers/Body/{Body_files[item['Body']]}.png\").convert('RGBA'))\n",
    "    layers.append(Image.open(f\"./trait-layers/Outfit/{Outfit_files[item['Outfit']]}.png\").convert('RGBA'))\n",
    "    layers.append(Image.open(f\"./trait-layers/Head/{Head_files[item['Head']]}.png\").convert('RGBA'))\n",
    "    layers.append(Image.open(f\"./trait-layers/Head/{Head_files[item['Head']]}.png\").convert('RGBA'))\n",
    "    layers.append(Image.open(f\"./trait-layers/Face/{Face_files[item['Face']]}.png\").convert('RGBA'))\n",
    "    layers.append(Image.open(f\"./trait-layers/Earrings/{Earrings_files[item['Earrings']]}.png\").convert('RGBA'))\n",
    "\n",
    "    #Create each composite\n",
    "    render = bg.copy()\n",
    "    for layer in layers:\n",
    "        render.paste(layer, (0, 0), layer)\n",
    "\n",
    "    render = render.convert('RGB')\n",
    "\n",
    "    #Convert to RGB\n",
    "    file_name = str(item[\"tokenId\"]) + \".png\"\n",
    "    render.save(\"./renders/\" + file_name)"
   ]
  },
  {
   "cell_type": "code",
   "execution_count": 78,
   "metadata": {},
   "outputs": [],
   "source": [
    "#### Generate Metadata for each Image    \n",
    "\n",
    "f = open('./metadata_new/all-traits.json',) \n",
    "data = json.load(f)\n",
    "\n",
    "\n",
    "IMAGES_BASE_URI = \"ipfs://set_base_URI/\"\n",
    "PROJECT_NAME = \"NFT #\"\n",
    "\n",
    "def getAttribute(key, value):\n",
    "    return {\n",
    "        \"trait_type\": key,\n",
    "        \"value\": value\n",
    "    }\n",
    "for i in data:\n",
    "    token_id = i['tokenId']\n",
    "    token = {\n",
    "        \"image\": IMAGES_BASE_URI + str(token_id) + '.png',\n",
    "        \"tokenId\": token_id,\n",
    "        \"name\": PROJECT_NAME + ' ' + str(token_id),\n",
    "        \"description\": \"Add a description here.\",\n",
    "        \"attributes\": []\n",
    "    }\n",
    "\n",
    "    for trait in traits:\n",
    "        token[\"attributes\"].append(getAttribute(trait, i[trait]))\n",
    "\n",
    "    with open('./metadata_new/' + str(token_id) + '.json', 'w') as outfile:\n",
    "        json.dump(token, outfile, indent=4)\n",
    "f.close()"
   ]
  },
  {
   "cell_type": "code",
   "execution_count": 79,
   "metadata": {},
   "outputs": [],
   "source": [
    "cols = 3\n",
    "rows = 3\n",
    "im_size = Image.open(\"./renders/0.png\").convert(\"RGBA\")\n",
    "w, h = im_size.size\n",
    "im_size.close()\n",
    "\n",
    "grid = Image.new('RGB', size=(cols*w, rows*h))\n",
    "for i in range(cols*rows):\n",
    "    img_i = Image.open(f\"./renders/{i}.png\").convert(\"RGBA\")\n",
    "    grid.paste(img_i, box=(i%cols*w, i//cols*h))\n",
    "    img_i.close()\n",
    "\n",
    "grid.save(\"./grid.png\",\"PNG\")\n",
    "grid.close()"
   ]
  }
 ],
 "metadata": {
  "interpreter": {
   "hash": "429074d8e1eb052cfa1c405cf4bd483b953bdf22198dd964e3a1fc70d4b19f79"
  },
  "kernelspec": {
   "display_name": "Python 3.7.9 64-bit ('ML': conda)",
   "name": "python3"
  },
  "language_info": {
   "codemirror_mode": {
    "name": "ipython",
    "version": 3
   },
   "file_extension": ".py",
   "mimetype": "text/x-python",
   "name": "python",
   "nbconvert_exporter": "python",
   "pygments_lexer": "ipython3",
   "version": "3.7.9"
  }
 },
 "nbformat": 4,
 "nbformat_minor": 4
}
